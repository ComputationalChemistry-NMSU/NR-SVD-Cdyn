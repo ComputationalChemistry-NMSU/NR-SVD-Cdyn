{
 "cells": [
  {
   "cell_type": "markdown",
   "metadata": {},
   "source": [
    "# NR/SVD-Cdyn example"
   ]
  },
  {
   "cell_type": "code",
   "execution_count": 2,
   "metadata": {},
   "outputs": [],
   "source": [
    "library(zoo)"
   ]
  },
  {
   "cell_type": "code",
   "execution_count": 3,
   "metadata": {
    "collapsed": true
   },
   "outputs": [],
   "source": [
    "get_bins <- function(HIST_MIN=2,HIST_MAX=10,NUM_BINS=200) {\n",
    "    #' creates bins for binned WHAM\n",
    "    #' HIST_MIN and HIST_MAX denote the range of distances for binning\n",
    "    #' NUM_BINS: number of bins for the analysis\n",
    "    BINS <- seq(HIST_MIN,HIST_MAX,length.out=NUM_BINS+1)\n",
    "    MID_BINS <- zoo::rollsum(BINS,2)/2\n",
    "    list(bins=BINS,\n",
    "         mids=MID_BINS,\n",
    "         min=HIST_MIN,\n",
    "         max=HIST_MAX,\n",
    "         n=NUM_BINS)\n",
    "}"
   ]
  },
  {
   "cell_type": "code",
   "execution_count": 4,
   "metadata": {
    "collapsed": true
   },
   "outputs": [],
   "source": [
    "process_UmbrellaSampling <- function(dir=\".\",bins,column=2,k=100,Temperature=300,remove_outliers=TRUE) {\n",
    "    #' Reads a series of input files from the Umbrella Sampling (US) simulations\n",
    "    #' Each file is assumed to have the filename matching pattern \"dist_X.XXX.dat\" where X.XXX is the\n",
    "    #' restraint value of the geometrical parameter\n",
    "    #' k: vector of force constants\n",
    "    #' for the biasing potential calculation (E=0.5*k*dQ^2)\n",
    "    #'   If length(k)==1, the same value of k will be used for every US simulation\n",
    "    #'   if length(k) is equal to the number of the US simulations, then individual constants will be applied\n",
    "    #'\n",
    "    #' T: temperature (in K). US simulation-specific temperatures could be used\n",
    "    #'\n",
    "    \n",
    "    # get the list of files with distances\n",
    "    LF <- list.files(dir,pattern = \"dist_.*dat\",full.names = TRUE)\n",
    "\n",
    "    # read the files into a list of data frames\n",
    "    df <- lapply(LF,read.table)\n",
    "\n",
    "    # extract the centers of the restraining harmonic potentials from the names of the files\n",
    "    Q <- gsub(\".*dist_(.*?).dat\",\"\\\\1\",LF) %>% as.numeric()\n",
    "\n",
    "    # Numerically sort df and Q according to distance\n",
    "    df <- df[order(Q)]\n",
    "    Q <- Q[order(Q)]\n",
    "\n",
    "    # add the restraining distance as dist into each data frame\n",
    "    df2 <- lapply(seq_along(df),function(i) {d <- df[[i]][,column,drop=FALSE]; d$Q <- Q[i]; d})\n",
    "\n",
    "    # combine a list of individual data frames into a single data frame\n",
    "    D <- do.call(rbind,df2)\n",
    "\n",
    "    # m is the matrix with counts; \n",
    "    # Each column represent a distance bin \n",
    "    # Each row represents a histogram for an individual US simulation\n",
    "    m <- sapply(df,function(d) {\n",
    "          v <- d[,column]\n",
    "          v <- if (remove_outliers) v[v > bins$min & v < bins$max] else v\n",
    "          hist(v,breaks = bins$bins,plot = FALSE)$counts}\n",
    "        ) %>% t()\n",
    "\n",
    "    list(m=m,Q_US=Q,D=D)\n",
    "}\n"
   ]
  },
  {
   "cell_type": "code",
   "execution_count": 5,
   "metadata": {
    "collapsed": true
   },
   "outputs": [],
   "source": [
    "# generate bins\n",
    "bins <- get_bins(HIST_MIN=2.25,HIST_MAX=13,NUM_BINS=500)"
   ]
  },
  {
   "cell_type": "code",
   "execution_count": 6,
   "metadata": {
    "collapsed": true,
    "scrolled": true
   },
   "outputs": [],
   "source": [
    "# process the input data files\n",
    "dUS <- process_UmbrellaSampling('./dist/',bins,k=100,Temperature = 300)"
   ]
  },
  {
   "cell_type": "code",
   "execution_count": 7,
   "metadata": {
    "collapsed": true
   },
   "outputs": [],
   "source": [
    "generate_funs_Roux <- function(m,dist,MID_BINS,k,Temperature) {\n",
    "  #' Generates auxillary functions that calculate probabilty, free energy, etc\n",
    "  #' Equations used here are identical or closely follow those given in the WHAM program and Benoit Roux paper\n",
    "  #'\n",
    "  #' m is the matrix with the rows corresponding to the Umbrella Sampling simulations, and columns--to the distance histogram within each simulation [JxI]\n",
    "  #' dist -- series of the harmonic constraint distances\n",
    "  #' k -- force constant for the harmonic potential\n",
    "  #' Temperature -- a vector of temperatures used in each simulation\n",
    " \n",
    "  # Boltzmann constant\n",
    "  k_B <- 0.0019872041 # kcal/mol/K\n",
    "\n",
    "  RT <- k_B*Temperature\n",
    "\n",
    "  b1 <- outer(dist,MID_BINS,function(x,y) (x-y)^2)\n",
    "  b2 <- ( k/2/RT*diag(nrow(m)) ) %*% b1 # [JxJ] %*% [JxI] -> [JxI] ; bias\n",
    "  B <- exp(-b2)                         # B or ebias\n",
    "\n",
    "  NJ <- rowSums(m) # [1xJ] ; NCi in paper\n",
    "  NI <- colSums(m) # [1xI] ; NRj in paper\n",
    "\n",
    "  calc_vecs <- function(f) {\n",
    "    F <- exp(f/RT)\n",
    "\n",
    "    D <- as.vector((NJ*F) %*% B)         # Partition functions [1xI]\n",
    "    P <- NI / D                          # Unnormalized unbiased probability distribution [1xI]\n",
    "    Fn <- as.vector(P %*% t(B))          # Update F vector [1xI] %*% [IxJ] -> [1xJ]\n",
    "    ER <- -RT*log(Fn) - f                # 'Error' vector [1xJ]\n",
    "    R2 <- crossprod(ER) %>% as.vector()  # R2 is the squared norm of the 'error' vector\n",
    "\n",
    "    list(F=F,D=D,P=P,Fn=Fn,ER=ER,R2=R2)\n",
    "  }\n",
    "\n",
    "  calc_grads <- function(f,v=NULL) {\n",
    "    # calculate first derivatives\n",
    "    v <- if (is.null(v)) calc_vecs(f) else v\n",
    "    with(v,{\n",
    "      dD <- diag(NJ*F/RT) %*% B                          # [JxJ] %*% [JxI] -> [JxI];             dD[j,i] = d(D[i])/d(f[j])\n",
    "      d_sumP <- as.vector((-NI/D^2) %*% t(dD))           # [1xI] %*% [IxJ] -> [1xJ];             d_sumP[j] = d(sum_P)/d(f[j])\n",
    "      dFn <- -(B %*% diag(NI/D^2)) %*% t(dD)             # [JxI] %*% [IxI] %*% [IxJ] -> [JxJ];   dFn[j,k] = d(Fn[k])/d(f[j])\n",
    "      dER <- -diag(RT/Fn) %*% dFn - diag(length(Fn))     # [JxJ] %*% [JxJ] -> [JxJ];             dER[j,k] = d(ER[k])/d(f[j])\n",
    "      dR2 <- as.vector(2 * (ER %*% dER))                 # [1xJ] %*% [JxJ] -> [1xJ];             dR2[j] = d(R2)/d(f[j])\n",
    "\n",
    "      list(dD=dD,dFn=dFn,dER=dER,dR2=dR2,d_sumP=d_sumP)\n",
    "    })\n",
    "  }\n",
    "\n",
    "  calc_hess <- function(f) {\n",
    "    # calculate second derivatives\n",
    "    v <- calc_vecs(f)\n",
    "    g <- calc_grads(f,v)\n",
    "    # d2D <- lapply(seq_along(v$D), function(i) diag(g$dD[,i]/RT)) # not used\n",
    "    d2Fn <- lapply(seq_along(f), function(k) {                                            # d2Fn_k[j,m] <- d2(Fn[k]) / (d(f[j])*d(f[m]))\n",
    "      diag(g$dF[k,]/RT) + 2*( (g$dD %*% diag(NI*as.vector(B[k,])/v$D^3)) %*% t(g$dD))     # [JxI] %*% [IxI] %*% [IxJ] -> [JxJ]\n",
    "    })\n",
    "\n",
    "    d2ER <- lapply(seq_along(f), function(k) (-RT/v$Fn[k]^2)*(v$Fn[k]*d2Fn[[k]] - tcrossprod(g$dF[k,])))   # d2ER_k[j,m] <- d2(ER[k]) / (d(f[j])*d(f[m]))\n",
    "\n",
    "    d2R2 <- lapply(seq_along(f), function(k) v$ER[k]*d2ER[[k]] + tcrossprod(g$dER[k,]))\n",
    "    d2R2 <- 2*Reduce(\"+\",d2R2)\n",
    "\n",
    "    list(d2ER=d2ER,d2R2=d2R2)\n",
    "  }\n",
    "\n",
    "  A_f <- function(f,T=300) {\n",
    "    # get Free energy profile for given f-vectors\n",
    "    P <- P_f(f)\n",
    "    RT <- k_B*T\n",
    "    A <- -RT*log(P)\n",
    "    A <- A-min(A)\n",
    "    data.frame(R=MID_BINS,P=P,A=A)\n",
    "  }\n",
    "\n",
    "  # Wrappers\n",
    "  P_f <- function(f) calc_vecs(f)$P\n",
    "  sumP_f <- function(f) sum(P_f(f))\n",
    "  d_sumP_f <- function(f) calc_grads(f)$d_sumP\n",
    "\n",
    "  ER_f <- function(f) calc_vecs(f)$ER\n",
    "  R2_f <- function(f) calc_vecs(f)$R2\n",
    "  mx   <- function(f) max(abs(calc_vecs(f)$ER))\n",
    "\n",
    "  grad_ER_f <- function(f) calc_grads(f)$dER\n",
    "  grad_R2_f <- function(f) calc_grads(f)$dR2\n",
    "  grad_P_f <- function(f) calc_grads(f)$dP\n",
    "\n",
    "  hess_ER_f <- function(f) calc_hess(f)$d2ER\n",
    "  hess_R2_f <- function(f) calc_hess(f)$d2R2\n",
    "\n",
    "  list(ER=ER_f, grad_ER=grad_ER_f, hess_ER=hess_ER_f,\n",
    "       R2=R2_f, grad_R2=grad_R2_f, hess_R2=hess_R2_f,\n",
    "       P=P_f,\n",
    "       sumP=sumP_f,grad_sumP=d_sumP_f,\n",
    "       A=A_f,\n",
    "       mx=mx)t\n",
    "}\n"
   ]
  },
  {
   "cell_type": "code",
   "execution_count": 8,
   "metadata": {
    "collapsed": true
   },
   "outputs": [],
   "source": [
    "# generate the functions that will return the error function norm, values, and Jacobian\n",
    "funs <- generate_funs_Roux(dUS$m,dUS$Q_US,bins$mids,k = 100,Temperature = 300)"
   ]
  },
  {
   "cell_type": "code",
   "execution_count": 9,
   "metadata": {
    "collapsed": true
   },
   "outputs": [],
   "source": [
    "# generate the initial guess\n",
    "f0 <- rep(0,length(dUS$Q_US))"
   ]
  },
  {
   "cell_type": "code",
   "execution_count": 10,
   "metadata": {
    "collapsed": true
   },
   "outputs": [],
   "source": [
    "NR_SVD <- function(f_start,fn,ER,Jacobian,alpha=1,MAXIT=1000,THRESHOLD=1e-5,G_THRESHOLD=1e-10,k0=2,Cmax=1e9,base=1e3,DEBUG=FALSE,DOWN=50) {\n",
    "  #' Optimizes a vector function RN-->R using modified Newton-Raphson algorithm, NR-SVD/Cdyn\n",
    "  #' f_start: Initial guess vector\n",
    "  #' fn: Function that returns a single-valued error for a given guess vector\n",
    "  #' ER: Function RN-->RN for which the roots are sought\n",
    "  #' Jacobian: Function that returns Jacobian for ER\n",
    "\n",
    "  f <- f_start\n",
    "  bconv <- FALSE # Boolean convergence\n",
    "  conv <- NULL   # Convergence (norm of the step size)\n",
    "  conv_old <- Inf\n",
    "  conv_hist <- numeric(MAXIT) # needed to return the step size norm history\n",
    "  fn_hist <- numeric(MAXIT)   # needed to return the fn history\n",
    "\n",
    "  k_max <- log(Cmax,base) %>% ceiling()\n",
    "  k_min <- 1\n",
    "  base_min <- 1.01\n",
    "\n",
    "  for (iter in seq(MAXIT)) {\n",
    "\n",
    "    if (DEBUG) { sprintf('Starting iteration %i',iter) %>% message() }\n",
    "\n",
    "    # Try to get the SVD of the matrix\n",
    "    sv <- tryCatch(svd(Jacobian(f)),\n",
    "                   error=function(e) {\n",
    "                     if(e$message==\"infinite or missing values in 'x'\") NULL\n",
    "                   }\n",
    "    )\n",
    "    if (iter %% DOWN==0) {\n",
    "      if (base>1.01) {\n",
    "        base <- sqrt(base)\n",
    "        k0 <- 2\n",
    "        f <- f - mean(f)\n",
    "        if (DEBUG) {sprintf('Iteration %i: slow convergence, reduce base value to %.3f',iter,base) %>% message()}\n",
    "      }\n",
    "    }\n",
    "    if (is.null(sv)) {\n",
    "      if (base>1.01) {\n",
    "        base <- sqrt(base)\n",
    "        if (DEBUG) {sprintf('SVD error at iteration %i, restart with reduced base value %.3f',iter,base) %>% message()}\n",
    "        k0 <- 2\n",
    "        f <- f_start\n",
    "        conv_hist[iter] <- conv_old\n",
    "        fn_hist[iter] <- fn(f)\n",
    "        next()\n",
    "      } else {\n",
    "        sprintf('SVD error at iteration %i; base value is below the lowest possible value; stop',iter) %>% message()\n",
    "        break()\n",
    "      }\n",
    "    }\n",
    "\n",
    "    dp <- 1/sv$d\n",
    "    dp[dp/dp[1]>base^k0] <- 0 # http://www.wag.caltech.edu/publications/sup/pdf/341.pdf\n",
    "    G_minus <- sv$v %*% diag(dp) %*% t(sv$u)\n",
    "\n",
    "    h <- -alpha * as.vector(G_minus %*% ER(f))\n",
    "\n",
    "    f <- f + h\n",
    "\n",
    "    # get the step size norm\n",
    "    conv <- crossprod(h,h)\n",
    "\n",
    "    # update the records\n",
    "    conv_hist[iter] <- conv\n",
    "    fn_hist[iter] <- fn(f)\n",
    "\n",
    "    if (DEBUG) print(k0)\n",
    "\n",
    "    if (conv < conv_old) k0 <- min(k0+1,k_max)\n",
    "    if ((conv > THRESHOLD) & (conv > conv_old)) k0 <- max(k0-1,k_min)\n",
    "\n",
    "    if ((conv < THRESHOLD) & (sum(ER(f-h)^2) > G_THRESHOLD)) {\n",
    "      k_max <- ceiling(log(1e15,base))\n",
    "      k0 <- k_max\n",
    "    }\n",
    "\n",
    "    bconv <- (conv < THRESHOLD) & (sum(ER(f-h)^2) < G_THRESHOLD) & (k0>=k_max)\n",
    "    if (bconv) break;\n",
    "\n",
    "    # Do not scale down the step size after the first iteration\n",
    "    alpha <- 1\n",
    "\n",
    "    # Save old conv to check for improvement in the next step\n",
    "    conv_old <- conv\n",
    "  }\n",
    "  list(convergence=bconv,iter=iter,norm=conv,optim=f,\n",
    "       conv_hist=conv_hist[1:iter],fn_hist=fn_hist[1:iter],\n",
    "       #G_minus=G_minus,ER=ER(f-h),\n",
    "       k0=k0)\n",
    "}\n"
   ]
  },
  {
   "cell_type": "code",
   "execution_count": 11,
   "metadata": {
    "collapsed": true
   },
   "outputs": [],
   "source": [
    "MAXIT <- 50\n",
    "THRESHOLD <- 1e-20\n",
    "OUT_SVD <- NR_SVD(f0,fn=funs$R2,ER=funs$ER,Jacobian=funs$grad_ER,THRESHOLD=THRESHOLD,MAXIT=MAXIT)"
   ]
  },
  {
   "cell_type": "code",
   "execution_count": 12,
   "metadata": {
    "collapsed": true
   },
   "outputs": [],
   "source": [
    "Free_energies <- funs$A(OUT_SVD$optim)"
   ]
  },
  {
   "cell_type": "code",
   "execution_count": 13,
   "metadata": {},
   "outputs": [
    {
     "data": {
      "image/png": "[encoded data removed]",
      "text/plain": [
       "Plot with title “S-S PMF for octanedithiol (300 K)”"
      ]
     },
     "metadata": {},
     "output_type": "display_data"
    }
   ],
   "source": [
    "plot(A~R, Free_energies,type='l',main='S-S PMF for octanedithiol (300 K)',xlab='R(S-S), Å',ylab='PMF, kcal/mol')"
   ]
  }
 ],
 "metadata": {
  "kernelspec": {
   "display_name": "R",
   "language": "R",
   "name": "ir"
  },
  "language_info": {
   "codemirror_mode": "r",
   "file_extension": ".r",
   "mimetype": "text/x-r-source",
   "name": "R",
   "pygments_lexer": "r",
   "version": "3.6.1"
  }
 },
 "nbformat": 4,
 "nbformat_minor": 2
}
